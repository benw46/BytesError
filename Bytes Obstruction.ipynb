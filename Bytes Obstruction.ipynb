{
 "cells": [
  {
   "cell_type": "markdown",
   "metadata": {},
   "source": [
    "## Bytes Error Example"
   ]
  },
  {
   "cell_type": "code",
   "execution_count": 1,
   "metadata": {},
   "outputs": [],
   "source": [
    "import binascii \n",
    "import hashlib\n",
    "import ecdsa\n",
    "import codecs\n",
    "import hmac\n",
    "import base64\n",
    "\n",
    "from Crypto.Cipher import AES\n",
    "from pkcs7 import PKCS7Encoder"
   ]
  },
  {
   "cell_type": "markdown",
   "metadata": {},
   "source": [
    "The bytes-like objects include the **bytearray object** object and the **bytes object**. The **bytearray object** and **bytes object** are required for the SHA512 hash parameter and the AES128 CBC Mode parameter, respectively.\n",
    "\n",
    "`data = bytearray.fromhex(S)`<br>\n",
    "`IV = hashlib.sha512(data).digest()[0:16]`<br>\n",
    "`KAES = hashlib.sha512(data).digest()[16:32]`<br>\n",
    "`KHMAC = hashlib.sha512(data).digest()[32:64]`<br>\n",
    "\n",
    "---------------------------------\n",
    "\n",
    "`messagebuf = bytes.fromhex(messagebuf) # Turned into a bytes object`<br>\n",
    "`encryptedBytes = aes.encrypt(messagebuf)`<br>\n"
   ]
  },
  {
   "cell_type": "markdown",
   "metadata": {},
   "source": [
    "WORKING CODE"
   ]
  },
  {
   "cell_type": "code",
   "execution_count": 55,
   "metadata": {},
   "outputs": [
    {
     "name": "stdout",
     "output_type": "stream",
     "text": [
      "bytearray(b\"\\x03\\x1c\\xc3\\x95\\x9f\\tv[\\x99\\xd824\\x96\\xbd\\x1b\\'\\x12l\\r\\xccl\\xa3i\\xecf\\xb6\\xcd\\xef2C\\x01aJ\")\n",
      "\n",
      "b'4a76311614a90d81a7c4f8d038c91f5fa4375fefdde407b0728ca4d35475cd6794d936f43d8c2e22cc81b52f8c28bfd5ac5e74c45bf3cabfbf145fc0f0d92337'\n"
     ]
    }
   ],
   "source": [
    "# It seems that the hashlib.sha512() function takes any bytes-like object. \n",
    "\n",
    "S = '031cc3959f09765b99d8323496bd1b27126c0dcc6ca369ec66b6cdef324301614a'\n",
    "\n",
    "S = bytearray.fromhex(S)\n",
    "hashedSecret = hashlib.sha512(S).digest()\n",
    "print(S)\n",
    "print(\"\")\n",
    "print(binascii.hexlify(hashedSecret))"
   ]
  },
  {
   "cell_type": "markdown",
   "metadata": {},
   "source": [
    "Trying to plug S straight into hashlib.sha512() returns the error: **TypeError: Unicode-objects must be encoded before hashing**, which might immediately coax the unintiated programmer (i.e. me) to add `.encode()`, thus returning a perfectly sound but incorrect hash. To make matters worse, printing the newly encoded S returns: `b'031cc3959f09765b99d8323496bd1b27126c0dcc6ca369ec66b6cdef324301614a'`, the correct public key, that is definitely a bytes object, is encoded and does satisfy the function as a parameter.\n"
   ]
  },
  {
   "cell_type": "code",
   "execution_count": 54,
   "metadata": {},
   "outputs": [
    {
     "name": "stdout",
     "output_type": "stream",
     "text": [
      "b'4bdce8c955da6853e09528f4583a25997f5a76ef3c7acb0ca82694470f380112b782772c6c36064e90145502d82b8cc1c3d2f667a6185dd6cb208f62e7290843'\n",
      "\n",
      "INCORRECT: b'031cc3959f09765b99d8323496bd1b27126c0dcc6ca369ec66b6cdef324301614a'\n"
     ]
    }
   ],
   "source": [
    "S = '031cc3959f09765b99d8323496bd1b27126c0dcc6ca369ec66b6cdef324301614a'\n",
    "S = S.encode()\n",
    "hashedSecret = hashlib.sha512(S).digest()\n",
    "print(binascii.hexlify(hashedSecret))\n",
    "print(\"\\nINCORRECT: \" + str(S))"
   ]
  },
  {
   "cell_type": "code",
   "execution_count": 49,
   "metadata": {},
   "outputs": [
    {
     "name": "stdout",
     "output_type": "stream",
     "text": [
      "b'031cc3959f09765b99d8323496bd1b27126c0dcc6ca369ec66b6cdef324301614a'\n",
      "\n",
      "b'4bdce8c955da6853e09528f4583a25997f5a76ef3c7acb0ca82694470f380112b782772c6c36064e90145502d82b8cc1c3d2f667a6185dd6cb208f62e7290843'\n"
     ]
    }
   ],
   "source": [
    "S = '031cc3959f09765b99d8323496bd1b27126c0dcc6ca369ec66b6cdef324301614a'\n",
    "S = S.encode()\n",
    "hashedSecret = hashlib.sha512(S).digest()\n",
    "print(S)\n",
    "print(\"\")\n",
    "print(binascii.hexlify(hashedSecret))"
   ]
  },
  {
   "cell_type": "code",
   "execution_count": 63,
   "metadata": {},
   "outputs": [
    {
     "name": "stdout",
     "output_type": "stream",
     "text": [
      "-0x6fdbcd182d95e67b16d8ffeec884ab3626d0302d7cbf5ccb51d1a934cdf00c1d\n"
     ]
    }
   ],
   "source": [
    "x = -50595081209769565893048707353530806821293736752292956249448601285321712208925\n",
    "print(hex(x))"
   ]
  },
  {
   "cell_type": "code",
   "execution_count": null,
   "metadata": {},
   "outputs": [],
   "source": []
  }
 ],
 "metadata": {
  "kernelspec": {
   "display_name": "Python 3",
   "language": "python",
   "name": "python3"
  },
  "language_info": {
   "codemirror_mode": {
    "name": "ipython",
    "version": 3
   },
   "file_extension": ".py",
   "mimetype": "text/x-python",
   "name": "python",
   "nbconvert_exporter": "python",
   "pygments_lexer": "ipython3",
   "version": "3.7.3"
  }
 },
 "nbformat": 4,
 "nbformat_minor": 2
}
